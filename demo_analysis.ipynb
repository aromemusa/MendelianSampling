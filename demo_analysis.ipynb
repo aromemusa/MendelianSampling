{
 "cells": [
  {
   "cell_type": "markdown",
   "metadata": {},
   "source": [
    "# Demonstration: Analysis of example cattle dataset\n",
    "## Import relevant packages and modules"
   ]
  },
  {
   "cell_type": "code",
   "execution_count": 1,
   "metadata": {},
   "outputs": [],
   "source": [
    "from MSvaluesPy import msvalues\n",
    "import numpy as np\n",
    "import pandas as pd\n",
    "import time"
   ]
  },
  {
   "cell_type": "markdown",
   "metadata": {},
   "source": [
    "## Import example data\n",
    "Two main input data are required to use most functions in the [`msvalues`](docs_msvalues.md) module:\n",
    "1. `marker map and marker effects`: This should be provided as a data frame with named columns. The first three columns must be the marker index (ranging from 1 to the total number of markers on the genome), chromosome number, and the marker position (in cM or bp, but preferably cM). The remaining columns should be the marker effects for each trait.\n",
    "The marker map and marker effects file or data for a single trait should be formatted as follows:"
   ]
  },
  {
   "cell_type": "code",
   "execution_count": 2,
   "metadata": {},
   "outputs": [
    {
     "name": "stdout",
     "output_type": "stream",
     "text": [
      "         SNP  Chr         cM       fat\n",
      "0          1    1   0.113641  0.000059\n",
      "1          2    1   0.244698 -0.000051\n",
      "2          3    1   0.369418  0.000034\n",
      "3          4    1   0.447277  0.000026\n",
      "4          5    1   0.487653  0.000021\n",
      "...      ...  ...        ...       ...\n",
      "39775  39776   29  51.899151 -0.000104\n",
      "39776  39777   29  51.920849  0.000205\n",
      "39777  39778   29  51.986600  0.000034\n",
      "39778  39779   29  52.030414 -0.000148\n",
      "39779  39780   29  52.112161 -0.000059\n",
      "\n",
      "[39780 rows x 4 columns]\n"
     ]
    }
   ],
   "source": [
    "inputfile1st = msvalues.testinputfile1st()\n",
    "print(inputfile1st)"
   ]
  },
  {
   "cell_type": "markdown",
   "metadata": {},
   "source": [
    "and for multiple traits as follows:"
   ]
  },
  {
   "cell_type": "code",
   "execution_count": 3,
   "metadata": {},
   "outputs": [
    {
     "name": "stdout",
     "output_type": "stream",
     "text": [
      "         SNP  Chr         cM       fat        pH   protein\n",
      "0          1    1   0.113641  0.000059 -0.000163 -0.000211\n",
      "1          2    1   0.244698 -0.000051 -0.000773 -0.000006\n",
      "2          3    1   0.369418  0.000034 -0.000047 -0.000075\n",
      "3          4    1   0.447277  0.000026  0.000101 -0.000118\n",
      "4          5    1   0.487653  0.000021  0.000066  0.000075\n",
      "...      ...  ...        ...       ...       ...       ...\n",
      "39775  39776   29  51.899151 -0.000104 -0.000078 -0.000017\n",
      "39776  39777   29  51.920849  0.000205 -0.000145 -0.000053\n",
      "39777  39778   29  51.986600  0.000034  0.000025  0.000043\n",
      "39778  39779   29  52.030414 -0.000148 -0.000033 -0.000003\n",
      "39779  39780   29  52.112161 -0.000059 -0.000004  0.000013\n",
      "\n",
      "[39780 rows x 6 columns]\n"
     ]
    }
   ],
   "source": [
    "inputfile1mt = msvalues.testinputfile1mt()\n",
    "print(inputfile1mt)"
   ]
  },
  {
   "cell_type": "markdown",
   "metadata": {},
   "source": [
    "2. `ID, sex and phased genotypic data`: This should be a two-dimensional character array. This file should contain no column or row names. The number of rows should be equal to the number of individuals, and the number of columns should be two plus the total number of markers (i.e., the first column must be individual ID, the second column must be the sex (coded 1 for male and 2 for female) and the remaining marker genotypes. The phased genotypic data must be coded using 1, 2, 3, and 4, with 1 and 2 representing homozygous dominant and recessive markers, and 3 and 4 representing heterozygous markers. Example data for a single sex is as follows:"
   ]
  },
  {
   "cell_type": "code",
   "execution_count": 4,
   "metadata": {
    "scrolled": false
   },
   "outputs": [
    {
     "name": "stdout",
     "output_type": "stream",
     "text": [
      "[['1' '1' '4' ... '1' '4' '1']\n",
      " ['2' '1' '1' ... '1' '3' '4']\n",
      " ['3' '1' '1' ... '3' '4' '1']\n",
      " ...\n",
      " ['263' '1' '1' ... '4' '3' '1']\n",
      " ['264' '1' '4' ... '3' '1' '1']\n",
      " ['265' '1' '1' ... '4' '1' '1']]\n"
     ]
    }
   ],
   "source": [
    "inputfile2ss = msvalues.testinputfile2ss()\n",
    "print(inputfile2ss)"
   ]
  },
  {
   "cell_type": "markdown",
   "metadata": {},
   "source": [
    "and data containing both sexes as follows:"
   ]
  },
  {
   "cell_type": "code",
   "execution_count": 5,
   "metadata": {},
   "outputs": [
    {
     "name": "stdout",
     "output_type": "stream",
     "text": [
      "[['1' '1' '4' ... '1' '4' '1']\n",
      " ['2' '2' '1' ... '1' '3' '4']\n",
      " ['3' '2' '1' ... '3' '4' '1']\n",
      " ...\n",
      " ['263' '2' '1' ... '4' '3' '1']\n",
      " ['264' '2' '4' ... '3' '1' '1']\n",
      " ['265' '2' '1' ... '4' '1' '1']]\n"
     ]
    }
   ],
   "source": [
    "inputfile2ms = msvalues.testinputfile2ms()\n",
    "print(inputfile2ms)"
   ]
  },
  {
   "cell_type": "markdown",
   "metadata": {},
   "source": [
    "Note that all individuals were females in the example dataset of Musa and Reinsch (2021). In inputfile2ms, sex was randomly assigned for demonstration purposes. "
   ]
  },
  {
   "cell_type": "markdown",
   "metadata": {},
   "source": [
    "## File check\n",
    "It is advisable to check the input files or data mentioned above for errors using the function msvalues.fileschecks. This requires two additional inputs: number of traits (as integer) and index weights (as an array). The index weights must be in the order of estimated marker effects provided in marker map and effects data frame."
   ]
  },
  {
   "cell_type": "code",
   "execution_count": 6,
   "metadata": {
    "scrolled": true
   },
   "outputs": [
    {
     "name": "stdout",
     "output_type": "stream",
     "text": [
      "Input files or data passed the file check test!\n",
      "Number of individuals:  265\n",
      "Number of chromosomes:  29\n",
      "Total no. markers:  39780\n",
      "Number of trait(s):  3\n",
      "Trait name(s) and Index weight(s)\n",
      "fat :  1.0\n",
      "pH :  1.0\n",
      "protein :  1.0\n"
     ]
    }
   ],
   "source": [
    "no_traits = 3                       # integer\n",
    "index_wt = np.array((1.0,1.0,1.0))  # array   \n",
    "# perform quality checks\n",
    "msvalues.fileschecks(inputfile1mt, inputfile2ms, no_traits, index_wt)  "
   ]
  },
  {
   "cell_type": "markdown",
   "metadata": {},
   "source": [
    "## Setting up the population covariance matrix\n",
    "This is done using the function msvalues.popcovmat. This requires two inputs: marker map data and marker position unit (options are 'cM' and 'bp'). If bp is chosen as the marker position unit, the function converts the marker position to Mbp."
   ]
  },
  {
   "cell_type": "code",
   "execution_count": 7,
   "metadata": {},
   "outputs": [
    {
     "name": "stdout",
     "output_type": "stream",
     "text": [
      "Time taken:  2.08 secs\n"
     ]
    }
   ],
   "source": [
    "mposunit = 'cM'\n",
    "start = time.time()\n",
    "CovMat = msvalues.popcovmat(inputfile1mt, mposunit)\n",
    "print('Time taken: ', round(time.time() - start, 2), 'secs')"
   ]
  },
  {
   "cell_type": "markdown",
   "metadata": {},
   "source": [
    "## Estimation of Mendelian sampling (co)variance and aggregate breeding value\n",
    "This can be done obtained using the function msvalues.MSvarcov. It requires information on marker map, marker effects, ID, sex and phased genotypes, population covariance matrix (derived using msvalues.popcovmat) and index weights. If progress is True, the function prints the progress of the calculations."
   ]
  },
  {
   "cell_type": "code",
   "execution_count": 9,
   "metadata": {},
   "outputs": [
    {
     "name": "stdout",
     "output_type": "stream",
     "text": [
      "Progress (%): 25  50  75  100  \n",
      "Time taken:  31.21 secs\n",
      "    Animal_ID  Sex       fat    pH_fat        pH  protein_fat  protein_pH  \\\n",
      "0           1    1  0.000466  0.000154  0.001805     0.000136   -0.000157   \n",
      "1           2    2  0.023262  0.014908  0.013225     0.017306    0.011082   \n",
      "2           3    2  0.021665  0.013760  0.010475     0.015662    0.009849   \n",
      "3           4    1  0.000949  0.000317  0.004836    -0.000044   -0.000158   \n",
      "4           5    2  0.021892  0.014447  0.012676     0.015576    0.010120   \n",
      "..        ...  ...       ...       ...       ...          ...         ...   \n",
      "260       261    1  0.022112  0.012953  0.010050     0.017090    0.009524   \n",
      "261       262    1  0.023853  0.016183  0.012896     0.017691    0.012189   \n",
      "262       263    2  0.000604  0.000096  0.002694     0.000025    0.000126   \n",
      "263       264    2  0.022809  0.015301  0.012748     0.017123    0.011174   \n",
      "264       265    2  0.022491  0.016226  0.013892     0.016460    0.011973   \n",
      "\n",
      "      protein    Agg BV  \n",
      "0    0.002321  0.004858  \n",
      "1    0.015098  0.138176  \n",
      "2    0.013710  0.124392  \n",
      "3    0.001352  0.007367  \n",
      "4    0.013318  0.128172  \n",
      "..        ...       ...  \n",
      "260  0.015024  0.126319  \n",
      "261  0.015089  0.143963  \n",
      "262  0.001841  0.005633  \n",
      "263  0.014931  0.137683  \n",
      "264  0.013582  0.139282  \n",
      "\n",
      "[265 rows x 9 columns]\n"
     ]
    }
   ],
   "source": [
    "start = time.time()\n",
    "MSVMSC = msvalues.MSvarcov(inputfile1mt, inputfile2ms, CovMat, index_wt, progress = True)\n",
    "print('Time taken: ', round(time.time() - start, 2), 'secs')\n",
    "print(MSVMSC)"
   ]
  },
  {
   "cell_type": "markdown",
   "metadata": {},
   "source": [
    "## Estimation of selection criteria\n",
    "1. `Gametic approach`: This can be done obtained using the function msvalues.SelStratGam. It requires information on selstrat (options are 'GEBV', 'PBTI', and 'RPTA'), marker map, marker effects, ID, sex and phased genotypes, Mendelian sampling (co)variance data frame, index weights, and selinorthresh. If selstrat is PBTI, a selinorthresh of value 0.05 sets threshold at top 5% of GEBV. If selstrat is RPTA, a selinorthresh of value 1.5 sets selection intensity to 1.5."
   ]
  },
  {
   "cell_type": "code",
   "execution_count": 10,
   "metadata": {},
   "outputs": [
    {
     "name": "stdout",
     "output_type": "stream",
     "text": [
      "Time taken:  14.84 secs\n",
      "    Animal_ID  Sex       fat        pH   protein   Overall\n",
      "0           1    1  0.167868 -0.043638  0.218103  0.278515\n",
      "1           2    1  0.230470  0.030054  0.252967  0.485484\n",
      "2           3    1  0.208225  0.144644  0.245587  0.577554\n",
      "3           4    1  0.201003  0.095271  0.108572  0.327917\n",
      "4           5    1  0.264241  0.034165  0.070406  0.341901\n",
      "..        ...  ...       ...       ...       ...       ...\n",
      "260       261    1  0.122000  0.116194  0.078259  0.292295\n",
      "261       262    1  0.132215  0.171069  0.087946  0.374106\n",
      "262       263    1  0.147349  0.270235  0.154555  0.505635\n",
      "263       264    1  0.124096  0.137870  0.104934  0.344295\n",
      "264       265    1  0.097010  0.218557  0.078350  0.377162\n",
      "\n",
      "[265 rows x 6 columns]\n"
     ]
    }
   ],
   "source": [
    "selstrat = 'RPTA'\n",
    "selinorthresh = 1.5\n",
    "start = time.time()\n",
    "Gam = msvalues.SelStratGam(selstrat, inputfile1mt, inputfile2ss, MSVMSC, index_wt, selinorthresh)\n",
    "print('Time taken: ', round(time.time() - start, 2), 'secs')\n",
    "print(Gam)"
   ]
  },
  {
   "cell_type": "markdown",
   "metadata": {},
   "source": [
    "2. `Zygotic approach`: This can be done obtained using the function msvalues.SelStratZyg. It requires the same information as the msvalues.SelStratGam function and two additional inputs: selintmale and selintfemale. The latter two inputs indicate the percentage of top males and females to be selected, respectively. For example, selintmale of 0.1 selects the top 10% of males with the highest value of the chosen selstrat. It is worth noting that a male is only allowed to mate with a maximum of 50 females. Gametic estimates of chosen selection strategy are saved to the current working directory."
   ]
  },
  {
   "cell_type": "code",
   "execution_count": 12,
   "metadata": {},
   "outputs": [
    {
     "name": "stdout",
     "output_type": "stream",
     "text": [
      "Time taken:  29.44 secs\n",
      "    SireID DamID SireIndex DamIndex        RPTA       GEBV       MSV\n",
      "0      231     2       230        1    0.903288   0.145982  0.254894\n",
      "1      231     3       230        2     1.00314   0.266595   0.24111\n",
      "2      231     5       230        4    0.765259  0.0229644   0.24489\n",
      "3      231     7       230        6     1.13276   0.610606  0.121175\n",
      "4      231    10       230        9    0.774431    0.24908  0.122664\n",
      "..     ...   ...       ...      ...         ...        ...       ...\n",
      "120    154   254       153      253     0.64597  -0.132418  0.269283\n",
      "121    154   260       153      259  0.00552254  -0.568548   0.14647\n",
      "122    154   263       153      262     1.02465   0.447892  0.147844\n",
      "123    154   264       153      263    0.636119  -0.157456  0.279894\n",
      "124    154   265       153      264    0.668027  -0.127812  0.281493\n",
      "\n",
      "[125 rows x 7 columns]\n"
     ]
    }
   ],
   "source": [
    "selintmale = 0.1\n",
    "selintfemale = 1\n",
    "start = time.time()\n",
    "Zyg = msvalues.SelStratZyg(selstrat, inputfile1mt, inputfile2ms, MSVMSC, index_wt, selinorthresh, selintmale, selintfemale)  \n",
    "print('Time taken: ', round(time.time() - start, 2), 'secs')\n",
    "print(Zyg)"
   ]
  },
  {
   "cell_type": "markdown",
   "metadata": {},
   "source": [
    "## Derivation of similarity matrices based on Mendelian sampling values\n",
    "1. `Gametic approach`: This can be done obtained using the function msvalues.SimMatGam. It requires information on marker map, marker effects, phased genotypes, index weights, population covariance matrix, and chromosomes of interest (chrinterest; options are either 'all', 'none' or a list [4,14] if the user is interested in chromosomes 4 and 14 only. If chrinterest is 'all' or 'none', all or none of the chromosome-wise similarity matrices are saved to file. If stdsim=True, standardized similarity matrix is output. If progress = True, the progress of the calculations is printed to screen."
   ]
  },
  {
   "cell_type": "code",
   "execution_count": 13,
   "metadata": {
    "scrolled": false
   },
   "outputs": [
    {
     "name": "stdout",
     "output_type": "stream",
     "text": [
      "Progress (%): 25  50  75  100  \n",
      "Progress (%): 25  50  75  100  \n",
      "Progress (%): 25  50  75  100  \n",
      "Progress (%): 25  50  75  100  \n",
      "Time taken:  9.95 secs\n",
      "[[1.       0.202679 0.196647 ... 0.59824  0.164937 0.177769]\n",
      " [0.202679 1.       0.980137 ... 0.258278 0.984033 0.982884]\n",
      " [0.196647 0.980137 1.       ... 0.251296 0.981482 0.977632]\n",
      " ...\n",
      " [0.59824  0.258278 0.251296 ... 1.       0.1971   0.223957]\n",
      " [0.164937 0.984033 0.981482 ... 0.1971   1.       0.986573]\n",
      " [0.177769 0.982884 0.977632 ... 0.223957 0.986573 1.      ]]\n"
     ]
    }
   ],
   "source": [
    "chrinterest = [1,2,3]\n",
    "start = time.time()\n",
    "simmatgam = msvalues.SimMatGam(inputfile1mt, inputfile2ss, index_wt, CovMat, chrinterest, stdsim = True, progress= True)\n",
    "print('Time taken: ', round(time.time() - start, 2), 'secs')\n",
    "print(np.round(simmatgam, 6))"
   ]
  },
  {
   "cell_type": "markdown",
   "metadata": {},
   "source": [
    "2. `Zygotic approach`: This can be done obtained using the function msvalues.SimMatZyg. It requires the same information as the gametic function msvalues.SimMatGam. In addition, it also requires the data frame produced using the function msvalues.SelStratZyg. "
   ]
  },
  {
   "cell_type": "code",
   "execution_count": 15,
   "metadata": {
    "scrolled": true
   },
   "outputs": [
    {
     "name": "stdout",
     "output_type": "stream",
     "text": [
      "Time taken:  13.56 secs\n",
      "[[0.254894 0.245217 0.247129 ... 0.13164  0.260162 0.260788]\n",
      " [0.245217 0.24111  0.240456 ... 0.131087 0.25288  0.253117]\n",
      " [0.247129 0.240456 0.24489  ... 0.13086  0.255206 0.255921]\n",
      " ...\n",
      " [0.13164  0.131087 0.13086  ... 0.147844 0.1477   0.148484]\n",
      " [0.260162 0.25288  0.255206 ... 0.1477   0.279894 0.278832]\n",
      " [0.260788 0.253117 0.255921 ... 0.148484 0.278832 0.281493]]\n"
     ]
    }
   ],
   "source": [
    "start = time.time()\n",
    "simmatzyg = msvalues.SimMatZyg(inputfile1mt, inputfile2ms, index_wt, Zyg, CovMat, chrinterest, stdsim = False, progress= False)\n",
    "print('Time taken: ', round(time.time() - start, 2), 'secs')\n",
    "print(np.round(simmatzyg, 6))"
   ]
  },
  {
   "cell_type": "markdown",
   "metadata": {},
   "source": [
    "## Optimum mate allocation\n",
    "1. `Gametic approach`: This can be done obtained using the function msvalues.OptiMateAllocGam. The required inputs are data frame produced using msvalues.SelStratGam function, similarity matrix, and maximum allocation (maxalloc) of mates. maxalloc of 1 allows the allocation of 100% weight to an individual whereas 0.05 allows 5% maximum weight allocation. If progress=True, the progress of the calculations is printed to screen. Note that individuals must be same sex otherwise the fucntion produces an error. The msvalues.OptiMateAllocGam function outputs the expected risk and returns, as well as optimal allocation of weights."
   ]
  },
  {
   "cell_type": "code",
   "execution_count": 17,
   "metadata": {},
   "outputs": [
    {
     "name": "stdout",
     "output_type": "stream",
     "text": [
      "Optimizing portfolios\n",
      "Mate allocation optimized\n",
      "Time taken:  3.19 secs\n"
     ]
    },
    {
     "data": {
      "image/png": "[encoded data removed]",
      "text/plain": [
       "<Figure size 432x288 with 1 Axes>"
      ]
     },
     "metadata": {
      "needs_background": "light"
     },
     "output_type": "display_data"
    }
   ],
   "source": [
    "maxalloc = 1\n",
    "start = time.time()\n",
    "Portfolio, OptimizedWeight = msvalues.OptiMateAllocGam(Gam, simmatgam, maxalloc, progress = False)\n",
    "print('Time taken: ', round(time.time() - start, 2), 'secs')"
   ]
  },
  {
   "cell_type": "markdown",
   "metadata": {},
   "source": [
    "2. `Zygotic approach`: This can be done obtained using the function msvalues.OptiMateAllocZyg. The required inputs are the same as the gametic approach except that the quantities must be estimated using functions for zygotic approach. "
   ]
  },
  {
   "cell_type": "code",
   "execution_count": 21,
   "metadata": {
    "scrolled": true
   },
   "outputs": [
    {
     "name": "stdout",
     "output_type": "stream",
     "text": [
      "Optimizing portfolios\n",
      "Mate allocation optimized\n",
      "Time taken:  2.28 secs\n"
     ]
    },
    {
     "data": {
      "image/png": "[encoded data removed]",
      "text/plain": [
       "<Figure size 432x288 with 1 Axes>"
      ]
     },
     "metadata": {
      "needs_background": "light"
     },
     "output_type": "display_data"
    }
   ],
   "source": [
    "maxalloc = 0.05\n",
    "start = time.time()\n",
    "Portfolio, OptimizedWeight =  msvalues.OptiMateAllocZyg(Zyg, simmatzyg, maxalloc, progress = True)\n",
    "print('Time taken: ', round(time.time() - start, 2), 'secs')"
   ]
  }
 ],
 "metadata": {
  "kernelspec": {
   "display_name": "Python 3",
   "language": "python",
   "name": "python3"
  },
  "language_info": {
   "codemirror_mode": {
    "name": "ipython",
    "version": 3
   },
   "file_extension": ".py",
   "mimetype": "text/x-python",
   "name": "python",
   "nbconvert_exporter": "python",
   "pygments_lexer": "ipython3",
   "version": "3.8.5"
  }
 },
 "nbformat": 4,
 "nbformat_minor": 4
}
